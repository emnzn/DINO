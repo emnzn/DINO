{
 "cells": [
  {
   "cell_type": "code",
   "execution_count": 12,
   "metadata": {},
   "outputs": [],
   "source": [
    "import sys\n",
    "sys.path.append(\"../src\")\n",
    "\n",
    "import os\n",
    "from typing import Dict, List\n",
    "\n",
    "import torch\n",
    "import numpy as np\n",
    "from tqdm import tqdm\n",
    "import plotly.express as px\n",
    "from sklearn.manifold import TSNE\n",
    "from lightning import seed_everything\n",
    "from torch.utils.data import DataLoader\n",
    "\n",
    "from utils import (\n",
    "    get_args,\n",
    "    get_label_map,\n",
    "    get_encoder_args,\n",
    "    get_finetune_datasets,\n",
    "    Encoder\n",
    ")"
   ]
  },
  {
   "cell_type": "code",
   "execution_count": 13,
   "metadata": {},
   "outputs": [],
   "source": [
    "@torch.no_grad()\n",
    "def get_embeddings(\n",
    "    data_loader: DataLoader,\n",
    "    encoder: Encoder,\n",
    "    device: str\n",
    "    ) -> tuple[List[np.ndarray], List[str]]:\n",
    "\n",
    "    encoder.eval()\n",
    "    embeddings = []\n",
    "    labels = []\n",
    "\n",
    "    for img, label in tqdm(data_loader, desc=\"Encoding in progress\"):\n",
    "        img = img.to(device)\n",
    "        label = label.cpu().numpy()\n",
    "\n",
    "        embedding = encoder(img).squeeze().cpu().numpy()\n",
    "        embeddings.extend(embedding)\n",
    "        labels.extend(label)\n",
    "\n",
    "    return embeddings, labels\n",
    "\n",
    "def plot_embeddings(\n",
    "    embeddings: List[np.ndarray],\n",
    "    labels: List[str],\n",
    "    dataset: str,\n",
    "    save_dir: str,\n",
    "    seed: int,\n",
    "    ):\n",
    "\n",
    "    label_map = get_label_map(dataset)\n",
    "\n",
    "    embeddings = np.array(embeddings)\n",
    "    labels = [label_map[i] for i in labels]\n",
    "\n",
    "    tsne = TSNE(n_components=2, random_state=seed)\n",
    "    projections = tsne.fit_transform(embeddings)\n",
    "\n",
    "    fig = px.scatter(\n",
    "        projections, x=0, y=1,\n",
    "        color=labels, labels={\"color\": \"label\"}\n",
    "    )\n",
    "    fig.write_image(os.path.join(save_dir, f\"{dataset}-embeddings.png\"))"
   ]
  },
  {
   "cell_type": "code",
   "execution_count": 3,
   "metadata": {},
   "outputs": [
    {
     "name": "stdout",
     "output_type": "stream",
     "text": [
      "Downloading https://www.cs.toronto.edu/~kriz/cifar-100-python.tar.gz to ../data/cifar-100-python.tar.gz\n"
     ]
    },
    {
     "name": "stderr",
     "output_type": "stream",
     "text": [
      "100%|██████████| 169001437/169001437 [00:33<00:00, 4988887.34it/s]\n"
     ]
    },
    {
     "name": "stdout",
     "output_type": "stream",
     "text": [
      "Extracting ../data/cifar-100-python.tar.gz to ../data\n",
      "Files already downloaded and verified\n"
     ]
    }
   ],
   "source": [
    "data_dir = os.path.join(\"..\", \"data\")\n",
    "arg_path = os.path.join(\"..\", \"src\", \"configs\", \"visualize-embedding.yaml\")\n",
    "args = get_args(arg_path)\n",
    "\n",
    "device = \"mps\"\n",
    "save_dir = os.path.join(\"..\", \"assets\", \"embedding-visualization\", args[\"backbone\"], f\"version_{args['experiment_num']}\")\n",
    "os.makedirs(save_dir, exist_ok=True)\n",
    "\n",
    "_, val_dataset = get_finetune_datasets(\n",
    "    dataset=args[\"dataset\"],\n",
    "    data_dir=data_dir\n",
    ")"
   ]
  },
  {
   "cell_type": "code",
   "execution_count": 4,
   "metadata": {},
   "outputs": [
    {
     "data": {
      "text/plain": [
       "'../assets/embedding-visualization/vit-s-16/version_0'"
      ]
     },
     "execution_count": 4,
     "metadata": {},
     "output_type": "execute_result"
    }
   ],
   "source": [
    "save_dir"
   ]
  },
  {
   "cell_type": "code",
   "execution_count": 5,
   "metadata": {},
   "outputs": [
    {
     "data": {
      "text/plain": [
       "<All keys matched successfully>"
      ]
     },
     "execution_count": 5,
     "metadata": {},
     "output_type": "execute_result"
    }
   ],
   "source": [
    "data_loader = DataLoader(\n",
    "    val_dataset,\n",
    "    batch_size=args[\"batch_size\"],\n",
    "    shuffle=False\n",
    ")\n",
    "\n",
    "run_dir = os.path.join(\"..\", \"src\", \"pre-train-runs\", args[\"backbone\"], f\"version_{args['experiment_num']}\", \"run-config.yaml\")\n",
    "ckpt_dir = os.path.join(\"..\", \"assets\", \"model-weights\", args[\"backbone\"], \"pre-train\", f\"version_{args['experiment_num']}\", \"min-loss.ckpt\")\n",
    "\n",
    "ckpt = torch.load(ckpt_dir, map_location=torch.device(device))[\"state_dict\"]\n",
    "encoder_args = get_encoder_args(run_dir)\n",
    "\n",
    "encoder = Encoder(**encoder_args).to(device)\n",
    "\n",
    "student_params = {k: params for k, params in ckpt.items() if \"student.\" in k}\n",
    "student_params = {k.replace(\"student.\", \"\"): params for k, params in student_params.items()}\n",
    "\n",
    "encoder.load_state_dict(student_params)"
   ]
  },
  {
   "cell_type": "code",
   "execution_count": 6,
   "metadata": {},
   "outputs": [
    {
     "name": "stderr",
     "output_type": "stream",
     "text": [
      "Encoding in progress: 100%|██████████| 1250/1250 [01:10<00:00, 17.76it/s]\n"
     ]
    }
   ],
   "source": [
    "encoder = encoder.encoder\n",
    "\n",
    "embeddings, labels = get_embeddings(data_loader, encoder, device)"
   ]
  },
  {
   "cell_type": "code",
   "execution_count": 14,
   "metadata": {},
   "outputs": [],
   "source": [
    "plot_embeddings(embeddings, labels, args[\"dataset\"], save_dir, args[\"seed\"])"
   ]
  },
  {
   "cell_type": "code",
   "execution_count": null,
   "metadata": {},
   "outputs": [],
   "source": []
  }
 ],
 "metadata": {
  "kernelspec": {
   "display_name": "pytorch",
   "language": "python",
   "name": "python3"
  },
  "language_info": {
   "codemirror_mode": {
    "name": "ipython",
    "version": 3
   },
   "file_extension": ".py",
   "mimetype": "text/x-python",
   "name": "python",
   "nbconvert_exporter": "python",
   "pygments_lexer": "ipython3",
   "version": "3.12.2"
  }
 },
 "nbformat": 4,
 "nbformat_minor": 2
}
